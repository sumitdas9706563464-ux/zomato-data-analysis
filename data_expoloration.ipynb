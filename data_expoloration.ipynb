{
 "cells": [
  {
   "cell_type": "code",
   "execution_count": 6,
   "id": "e384049a",
   "metadata": {},
   "outputs": [
    {
     "name": "stdout",
     "output_type": "stream",
     "text": [
      "<class 'pandas.core.frame.DataFrame'>\n",
      "RangeIndex: 56252 entries, 0 to 56251\n",
      "Data columns (total 13 columns):\n",
      " #   Column                       Non-Null Count  Dtype \n",
      "---  ------                       --------------  ----- \n",
      " 0   address                      56235 non-null  object\n",
      " 1   name                         56236 non-null  object\n",
      " 2   online_order                 56233 non-null  object\n",
      " 3   book_table                   56194 non-null  object\n",
      " 4   rate                         48414 non-null  object\n",
      " 5   votes                        56174 non-null  object\n",
      " 6   phone                        54956 non-null  object\n",
      " 7   location                     56126 non-null  object\n",
      " 8   rest_type                    55914 non-null  object\n",
      " 9   dish_liked                   28027 non-null  object\n",
      " 10  cuisines                     56049 non-null  object\n",
      " 11  approx_cost(for two people)  55731 non-null  object\n",
      " 12  listed_in(type)              51642 non-null  object\n",
      "dtypes: object(13)\n",
      "memory usage: 5.6+ MB\n"
     ]
    },
    {
     "data": {
      "text/plain": [
       "address                           17\n",
       "name                              16\n",
       "online_order                      19\n",
       "book_table                        58\n",
       "rate                            7838\n",
       "votes                             78\n",
       "phone                           1296\n",
       "location                         126\n",
       "rest_type                        338\n",
       "dish_liked                     28225\n",
       "cuisines                         203\n",
       "approx_cost(for two people)      521\n",
       "listed_in(type)                 4610\n",
       "dtype: int64"
      ]
     },
     "execution_count": 6,
     "metadata": {},
     "output_type": "execute_result"
    }
   ],
   "source": [
    "import numpy as np\n",
    "import pandas as pd\n",
    "import matplotlib.pyplot as plt\n",
    "import seaborn as sns\n",
    "\n",
    "\n",
    "df = pd.read_csv(\"C:\\\\Users\\\\ajroy\\\\OneDrive\\\\Desktop\\\\New folder\\\\zomato_EDA\\\\data\\\\zomato.csv\")\n",
    "df.head()\n",
    "\n",
    "# my dataset  column\n",
    "df.columns\n",
    "# my dataset info\n",
    "df.info()\n",
    "# my dataset describe\n",
    "df.describe()\n",
    "# my dataset shape\n",
    "df.shape\n",
    "# my dataset isnull\n",
    "df.isnull().sum()"
   ]
  }
 ],
 "metadata": {
  "kernelspec": {
   "display_name": "Python 3",
   "language": "python",
   "name": "python3"
  },
  "language_info": {
   "codemirror_mode": {
    "name": "ipython",
    "version": 3
   },
   "file_extension": ".py",
   "mimetype": "text/x-python",
   "name": "python",
   "nbconvert_exporter": "python",
   "pygments_lexer": "ipython3",
   "version": "3.14.0"
  }
 },
 "nbformat": 4,
 "nbformat_minor": 5
}
