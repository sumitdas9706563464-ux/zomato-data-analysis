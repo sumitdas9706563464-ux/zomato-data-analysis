{
 "cells": [
  {
   "cell_type": "code",
   "execution_count": 2,
   "id": "e384049a",
   "metadata": {},
   "outputs": [
    {
     "data": {
      "text/html": [
       "<div>\n",
       "<style scoped>\n",
       "    .dataframe tbody tr th:only-of-type {\n",
       "        vertical-align: middle;\n",
       "    }\n",
       "\n",
       "    .dataframe tbody tr th {\n",
       "        vertical-align: top;\n",
       "    }\n",
       "\n",
       "    .dataframe thead th {\n",
       "        text-align: right;\n",
       "    }\n",
       "</style>\n",
       "<table border=\"1\" class=\"dataframe\">\n",
       "  <thead>\n",
       "    <tr style=\"text-align: right;\">\n",
       "      <th></th>\n",
       "      <th>address</th>\n",
       "      <th>name</th>\n",
       "      <th>online_order</th>\n",
       "      <th>book_table</th>\n",
       "      <th>rate</th>\n",
       "      <th>votes</th>\n",
       "      <th>phone</th>\n",
       "      <th>location</th>\n",
       "      <th>rest_type</th>\n",
       "      <th>dish_liked</th>\n",
       "      <th>cuisines</th>\n",
       "      <th>approx_cost(for two people)</th>\n",
       "      <th>listed_in(type)</th>\n",
       "    </tr>\n",
       "  </thead>\n",
       "  <tbody>\n",
       "    <tr>\n",
       "      <th>0</th>\n",
       "      <td>942, 21st Main Road, 2nd Stage, Banashankari, ...</td>\n",
       "      <td>Jalsa</td>\n",
       "      <td>Yes</td>\n",
       "      <td>Yes</td>\n",
       "      <td>4.1/5</td>\n",
       "      <td>775</td>\n",
       "      <td>080 42297555\\r\\n+91 9743772233</td>\n",
       "      <td>Banashankari</td>\n",
       "      <td>Casual Dining</td>\n",
       "      <td>Pasta, Lunch Buffet, Masala Papad, Paneer Laja...</td>\n",
       "      <td>North Indian, Mughlai, Chinese</td>\n",
       "      <td>800</td>\n",
       "      <td>Buffet</td>\n",
       "    </tr>\n",
       "    <tr>\n",
       "      <th>1</th>\n",
       "      <td>2nd Floor, 80 Feet Road, Near Big Bazaar, 6th ...</td>\n",
       "      <td>Spice Elephant</td>\n",
       "      <td>Yes</td>\n",
       "      <td>No</td>\n",
       "      <td>4.1/5</td>\n",
       "      <td>787</td>\n",
       "      <td>080 41714161</td>\n",
       "      <td>Banashankari</td>\n",
       "      <td>Casual Dining</td>\n",
       "      <td>Momos, Lunch Buffet, Chocolate Nirvana, Thai G...</td>\n",
       "      <td>Chinese, North Indian, Thai</td>\n",
       "      <td>800</td>\n",
       "      <td>Buffet</td>\n",
       "    </tr>\n",
       "    <tr>\n",
       "      <th>2</th>\n",
       "      <td>1112, Next to KIMS Medical College, 17th Cross...</td>\n",
       "      <td>San Churro Cafe</td>\n",
       "      <td>Yes</td>\n",
       "      <td>No</td>\n",
       "      <td>3.8/5</td>\n",
       "      <td>918</td>\n",
       "      <td>+91 9663487993</td>\n",
       "      <td>Banashankari</td>\n",
       "      <td>Cafe, Casual Dining</td>\n",
       "      <td>Churros, Cannelloni, Minestrone Soup, Hot Choc...</td>\n",
       "      <td>Cafe, Mexican, Italian</td>\n",
       "      <td>800</td>\n",
       "      <td>Buffet</td>\n",
       "    </tr>\n",
       "    <tr>\n",
       "      <th>3</th>\n",
       "      <td>1st Floor, Annakuteera, 3rd Stage, Banashankar...</td>\n",
       "      <td>Addhuri Udupi Bhojana</td>\n",
       "      <td>No</td>\n",
       "      <td>No</td>\n",
       "      <td>3.7/5</td>\n",
       "      <td>88</td>\n",
       "      <td>+91 9620009302</td>\n",
       "      <td>Banashankari</td>\n",
       "      <td>Quick Bites</td>\n",
       "      <td>Masala Dosa</td>\n",
       "      <td>South Indian, North Indian</td>\n",
       "      <td>300</td>\n",
       "      <td>Buffet</td>\n",
       "    </tr>\n",
       "    <tr>\n",
       "      <th>4</th>\n",
       "      <td>10, 3rd Floor, Lakshmi Associates, Gandhi Baza...</td>\n",
       "      <td>Grand Village</td>\n",
       "      <td>No</td>\n",
       "      <td>No</td>\n",
       "      <td>3.8/5</td>\n",
       "      <td>166</td>\n",
       "      <td>+91 8026612447\\r\\n+91 9901210005</td>\n",
       "      <td>Basavanagudi</td>\n",
       "      <td>Casual Dining</td>\n",
       "      <td>Panipuri, Gol Gappe</td>\n",
       "      <td>North Indian, Rajasthani</td>\n",
       "      <td>600</td>\n",
       "      <td>Buffet</td>\n",
       "    </tr>\n",
       "  </tbody>\n",
       "</table>\n",
       "</div>"
      ],
      "text/plain": [
       "                                             address                   name  \\\n",
       "0  942, 21st Main Road, 2nd Stage, Banashankari, ...                  Jalsa   \n",
       "1  2nd Floor, 80 Feet Road, Near Big Bazaar, 6th ...         Spice Elephant   \n",
       "2  1112, Next to KIMS Medical College, 17th Cross...        San Churro Cafe   \n",
       "3  1st Floor, Annakuteera, 3rd Stage, Banashankar...  Addhuri Udupi Bhojana   \n",
       "4  10, 3rd Floor, Lakshmi Associates, Gandhi Baza...          Grand Village   \n",
       "\n",
       "  online_order book_table   rate votes                             phone  \\\n",
       "0          Yes        Yes  4.1/5   775    080 42297555\\r\\n+91 9743772233   \n",
       "1          Yes         No  4.1/5   787                      080 41714161   \n",
       "2          Yes         No  3.8/5   918                    +91 9663487993   \n",
       "3           No         No  3.7/5    88                    +91 9620009302   \n",
       "4           No         No  3.8/5   166  +91 8026612447\\r\\n+91 9901210005   \n",
       "\n",
       "       location            rest_type  \\\n",
       "0  Banashankari        Casual Dining   \n",
       "1  Banashankari        Casual Dining   \n",
       "2  Banashankari  Cafe, Casual Dining   \n",
       "3  Banashankari          Quick Bites   \n",
       "4  Basavanagudi        Casual Dining   \n",
       "\n",
       "                                          dish_liked  \\\n",
       "0  Pasta, Lunch Buffet, Masala Papad, Paneer Laja...   \n",
       "1  Momos, Lunch Buffet, Chocolate Nirvana, Thai G...   \n",
       "2  Churros, Cannelloni, Minestrone Soup, Hot Choc...   \n",
       "3                                        Masala Dosa   \n",
       "4                                Panipuri, Gol Gappe   \n",
       "\n",
       "                         cuisines approx_cost(for two people) listed_in(type)  \n",
       "0  North Indian, Mughlai, Chinese                         800          Buffet  \n",
       "1     Chinese, North Indian, Thai                         800          Buffet  \n",
       "2          Cafe, Mexican, Italian                         800          Buffet  \n",
       "3      South Indian, North Indian                         300          Buffet  \n",
       "4        North Indian, Rajasthani                         600          Buffet  "
      ]
     },
     "execution_count": 2,
     "metadata": {},
     "output_type": "execute_result"
    }
   ],
   "source": [
    "import numpy as np\n",
    "import pandas as pd\n",
    "import matplotlib.pyplot as plt\n",
    "import seaborn as sns\n",
    "\n",
    "\n",
    "df = pd.read_csv(\"C:\\\\Users\\\\ajroy\\\\OneDrive\\\\Desktop\\\\New folder\\\\zomato_EDA\\\\data\\\\zomato.csv\")\n",
    "df.head()\n",
    "\n"
   ]
  },
  {
   "cell_type": "code",
   "execution_count": 3,
   "id": "32df8773",
   "metadata": {},
   "outputs": [
    {
     "data": {
      "text/plain": [
       "Index(['address', 'name', 'online_order', 'book_table', 'rate', 'votes',\n",
       "       'phone', 'location', 'rest_type', 'dish_liked', 'cuisines',\n",
       "       'approx_cost(for two people)', 'listed_in(type)'],\n",
       "      dtype='object')"
      ]
     },
     "execution_count": 3,
     "metadata": {},
     "output_type": "execute_result"
    }
   ],
   "source": [
    "# my dataset  column\n",
    "df.columns\n"
   ]
  },
  {
   "cell_type": "code",
   "execution_count": 4,
   "id": "33215624",
   "metadata": {},
   "outputs": [
    {
     "name": "stdout",
     "output_type": "stream",
     "text": [
      "<class 'pandas.core.frame.DataFrame'>\n",
      "RangeIndex: 56252 entries, 0 to 56251\n",
      "Data columns (total 13 columns):\n",
      " #   Column                       Non-Null Count  Dtype \n",
      "---  ------                       --------------  ----- \n",
      " 0   address                      56235 non-null  object\n",
      " 1   name                         56236 non-null  object\n",
      " 2   online_order                 56233 non-null  object\n",
      " 3   book_table                   56194 non-null  object\n",
      " 4   rate                         48414 non-null  object\n",
      " 5   votes                        56174 non-null  object\n",
      " 6   phone                        54956 non-null  object\n",
      " 7   location                     56126 non-null  object\n",
      " 8   rest_type                    55914 non-null  object\n",
      " 9   dish_liked                   28027 non-null  object\n",
      " 10  cuisines                     56049 non-null  object\n",
      " 11  approx_cost(for two people)  55731 non-null  object\n",
      " 12  listed_in(type)              51642 non-null  object\n",
      "dtypes: object(13)\n",
      "memory usage: 5.6+ MB\n"
     ]
    }
   ],
   "source": [
    "# my dataset info\n",
    "df.info()\n"
   ]
  },
  {
   "cell_type": "code",
   "execution_count": 5,
   "id": "a39d7d0b",
   "metadata": {},
   "outputs": [
    {
     "data": {
      "text/html": [
       "<div>\n",
       "<style scoped>\n",
       "    .dataframe tbody tr th:only-of-type {\n",
       "        vertical-align: middle;\n",
       "    }\n",
       "\n",
       "    .dataframe tbody tr th {\n",
       "        vertical-align: top;\n",
       "    }\n",
       "\n",
       "    .dataframe thead th {\n",
       "        text-align: right;\n",
       "    }\n",
       "</style>\n",
       "<table border=\"1\" class=\"dataframe\">\n",
       "  <thead>\n",
       "    <tr style=\"text-align: right;\">\n",
       "      <th></th>\n",
       "      <th>address</th>\n",
       "      <th>name</th>\n",
       "      <th>online_order</th>\n",
       "      <th>book_table</th>\n",
       "      <th>rate</th>\n",
       "      <th>votes</th>\n",
       "      <th>phone</th>\n",
       "      <th>location</th>\n",
       "      <th>rest_type</th>\n",
       "      <th>dish_liked</th>\n",
       "      <th>cuisines</th>\n",
       "      <th>approx_cost(for two people)</th>\n",
       "      <th>listed_in(type)</th>\n",
       "    </tr>\n",
       "  </thead>\n",
       "  <tbody>\n",
       "    <tr>\n",
       "      <th>count</th>\n",
       "      <td>56235</td>\n",
       "      <td>56236</td>\n",
       "      <td>56233</td>\n",
       "      <td>56194</td>\n",
       "      <td>48414</td>\n",
       "      <td>56174</td>\n",
       "      <td>54956</td>\n",
       "      <td>56126</td>\n",
       "      <td>55914</td>\n",
       "      <td>28027</td>\n",
       "      <td>56049</td>\n",
       "      <td>55731</td>\n",
       "      <td>51642</td>\n",
       "    </tr>\n",
       "    <tr>\n",
       "      <th>unique</th>\n",
       "      <td>13397</td>\n",
       "      <td>11914</td>\n",
       "      <td>2639</td>\n",
       "      <td>2902</td>\n",
       "      <td>2877</td>\n",
       "      <td>5195</td>\n",
       "      <td>17712</td>\n",
       "      <td>2920</td>\n",
       "      <td>2961</td>\n",
       "      <td>8067</td>\n",
       "      <td>5553</td>\n",
       "      <td>2879</td>\n",
       "      <td>2783</td>\n",
       "    </tr>\n",
       "    <tr>\n",
       "      <th>top</th>\n",
       "      <td>('Rated 4.0'</td>\n",
       "      <td>('Rated 4.0'</td>\n",
       "      <td>Yes</td>\n",
       "      <td>No</td>\n",
       "      <td>NEW</td>\n",
       "      <td>0</td>\n",
       "      <td>('Rated 4.0'</td>\n",
       "      <td>BTM</td>\n",
       "      <td>Quick Bites</td>\n",
       "      <td>('Rated 4.0'</td>\n",
       "      <td>North Indian</td>\n",
       "      <td>300</td>\n",
       "      <td>Delivery</td>\n",
       "    </tr>\n",
       "    <tr>\n",
       "      <th>freq</th>\n",
       "      <td>942</td>\n",
       "      <td>300</td>\n",
       "      <td>30444</td>\n",
       "      <td>45268</td>\n",
       "      <td>2208</td>\n",
       "      <td>10027</td>\n",
       "      <td>412</td>\n",
       "      <td>5125</td>\n",
       "      <td>19132</td>\n",
       "      <td>407</td>\n",
       "      <td>2913</td>\n",
       "      <td>7576</td>\n",
       "      <td>24317</td>\n",
       "    </tr>\n",
       "  </tbody>\n",
       "</table>\n",
       "</div>"
      ],
      "text/plain": [
       "              address           name online_order book_table   rate  votes  \\\n",
       "count           56235          56236        56233      56194  48414  56174   \n",
       "unique          13397          11914         2639       2902   2877   5195   \n",
       "top      ('Rated 4.0'   ('Rated 4.0'          Yes         No    NEW      0   \n",
       "freq              942            300        30444      45268   2208  10027   \n",
       "\n",
       "                phone location    rest_type     dish_liked      cuisines  \\\n",
       "count           54956    56126        55914          28027         56049   \n",
       "unique          17712     2920         2961           8067          5553   \n",
       "top      ('Rated 4.0'      BTM  Quick Bites   ('Rated 4.0'  North Indian   \n",
       "freq              412     5125        19132            407          2913   \n",
       "\n",
       "       approx_cost(for two people) listed_in(type)  \n",
       "count                        55731           51642  \n",
       "unique                        2879            2783  \n",
       "top                            300        Delivery  \n",
       "freq                          7576           24317  "
      ]
     },
     "execution_count": 5,
     "metadata": {},
     "output_type": "execute_result"
    }
   ],
   "source": [
    "# my dataset describe\n",
    "df.describe()"
   ]
  },
  {
   "cell_type": "code",
   "execution_count": 6,
   "id": "d8656f09",
   "metadata": {},
   "outputs": [
    {
     "data": {
      "text/plain": [
       "(56252, 13)"
      ]
     },
     "execution_count": 6,
     "metadata": {},
     "output_type": "execute_result"
    }
   ],
   "source": [
    "# my dataset shape\n",
    "df.shape"
   ]
  },
  {
   "cell_type": "code",
   "execution_count": 7,
   "id": "7c69be5d",
   "metadata": {},
   "outputs": [
    {
     "data": {
      "text/plain": [
       "address                           17\n",
       "name                              16\n",
       "online_order                      19\n",
       "book_table                        58\n",
       "rate                            7838\n",
       "votes                             78\n",
       "phone                           1296\n",
       "location                         126\n",
       "rest_type                        338\n",
       "dish_liked                     28225\n",
       "cuisines                         203\n",
       "approx_cost(for two people)      521\n",
       "listed_in(type)                 4610\n",
       "dtype: int64"
      ]
     },
     "execution_count": 7,
     "metadata": {},
     "output_type": "execute_result"
    }
   ],
   "source": [
    "# my dataset isnull\n",
    "df.isnull().sum()"
   ]
  },
  {
   "cell_type": "code",
   "execution_count": 8,
   "id": "db47a432",
   "metadata": {},
   "outputs": [
    {
     "data": {
      "text/plain": [
       "array(['4.1/5', '3.8/5', '3.7/5', ...,\n",
       "       \" but we weren't blown away. It was\",\n",
       "       \" also a slightly larger portion size wud be much appreciated...\\\\n\\\\nService - 5/10\\\\n\\\\nReally needs a lot of tweak up... the waiters are never to be found on the floor... they lack knowledge of dishes... very uninviting overall...\\\\n\\\\nOverall not a grt experience :(')\",\n",
       "       ' small place '], shape=(2878,), dtype=object)"
      ]
     },
     "execution_count": 8,
     "metadata": {},
     "output_type": "execute_result"
    }
   ],
   "source": [
    "df['rate'].unique()"
   ]
  },
  {
   "cell_type": "code",
   "execution_count": 18,
   "id": "206377c3",
   "metadata": {},
   "outputs": [
    {
     "data": {
      "text/plain": [
       "0    4.1\n",
       "1    4.1\n",
       "2    3.8\n",
       "3    3.7\n",
       "4    3.8\n",
       "Name: rate, dtype: float64"
      ]
     },
     "execution_count": 18,
     "metadata": {},
     "output_type": "execute_result"
    }
   ],
   "source": [
    "def handlerate(value):\n",
    "    if(value=='NEW' or value=='-'):\n",
    "        return np.nan\n",
    "    else:\n",
    "        value = str(value).split('/')\n",
    "        value = value[0]\n",
    "        return float(value)\n",
    "    \n",
    "df['rate'] = df['rate'].apply(handlerate)\n",
    "df['rate'].head()\n"
   ]
  },
  {
   "cell_type": "code",
   "execution_count": 20,
   "id": "32629d25",
   "metadata": {},
   "outputs": [
    {
     "data": {
      "text/plain": [
       "np.int64(0)"
      ]
     },
     "execution_count": 20,
     "metadata": {},
     "output_type": "execute_result"
    }
   ],
   "source": [
    "df['rate'].fillna(df['rate'].mean(), )\n",
    "df['rate'].isnull().sum()"
   ]
  },
  {
   "cell_type": "code",
   "execution_count": 22,
   "id": "6aaaec22",
   "metadata": {},
   "outputs": [
    {
     "data": {
      "text/html": [
       "<div>\n",
       "<style scoped>\n",
       "    .dataframe tbody tr th:only-of-type {\n",
       "        vertical-align: middle;\n",
       "    }\n",
       "\n",
       "    .dataframe tbody tr th {\n",
       "        vertical-align: top;\n",
       "    }\n",
       "\n",
       "    .dataframe thead th {\n",
       "        text-align: right;\n",
       "    }\n",
       "</style>\n",
       "<table border=\"1\" class=\"dataframe\">\n",
       "  <thead>\n",
       "    <tr style=\"text-align: right;\">\n",
       "      <th></th>\n",
       "      <th>address</th>\n",
       "      <th>name</th>\n",
       "      <th>online_order</th>\n",
       "      <th>book_table</th>\n",
       "      <th>rate</th>\n",
       "      <th>votes</th>\n",
       "      <th>phone</th>\n",
       "      <th>location</th>\n",
       "      <th>rest_type</th>\n",
       "      <th>cuisines</th>\n",
       "      <th>Cost2plates</th>\n",
       "      <th>Type</th>\n",
       "    </tr>\n",
       "  </thead>\n",
       "  <tbody>\n",
       "    <tr>\n",
       "      <th>0</th>\n",
       "      <td>942, 21st Main Road, 2nd Stage, Banashankari, ...</td>\n",
       "      <td>Jalsa</td>\n",
       "      <td>Yes</td>\n",
       "      <td>Yes</td>\n",
       "      <td>4.1</td>\n",
       "      <td>775.0</td>\n",
       "      <td>080 42297555\\r\\n+91 9743772233</td>\n",
       "      <td>Banashankari</td>\n",
       "      <td>Casual Dining</td>\n",
       "      <td>North Indian, Mughlai, Chinese</td>\n",
       "      <td>800.0</td>\n",
       "      <td>Buffet</td>\n",
       "    </tr>\n",
       "    <tr>\n",
       "      <th>1</th>\n",
       "      <td>2nd Floor, 80 Feet Road, Near Big Bazaar, 6th ...</td>\n",
       "      <td>Spice Elephant</td>\n",
       "      <td>Yes</td>\n",
       "      <td>No</td>\n",
       "      <td>4.1</td>\n",
       "      <td>787.0</td>\n",
       "      <td>080 41714161</td>\n",
       "      <td>Banashankari</td>\n",
       "      <td>Casual Dining</td>\n",
       "      <td>Chinese, North Indian, Thai</td>\n",
       "      <td>800.0</td>\n",
       "      <td>Buffet</td>\n",
       "    </tr>\n",
       "    <tr>\n",
       "      <th>2</th>\n",
       "      <td>1112, Next to KIMS Medical College, 17th Cross...</td>\n",
       "      <td>San Churro Cafe</td>\n",
       "      <td>Yes</td>\n",
       "      <td>No</td>\n",
       "      <td>3.8</td>\n",
       "      <td>918.0</td>\n",
       "      <td>+91 9663487993</td>\n",
       "      <td>Banashankari</td>\n",
       "      <td>Cafe, Casual Dining</td>\n",
       "      <td>Cafe, Mexican, Italian</td>\n",
       "      <td>800.0</td>\n",
       "      <td>Buffet</td>\n",
       "    </tr>\n",
       "    <tr>\n",
       "      <th>3</th>\n",
       "      <td>1st Floor, Annakuteera, 3rd Stage, Banashankar...</td>\n",
       "      <td>Addhuri Udupi Bhojana</td>\n",
       "      <td>No</td>\n",
       "      <td>No</td>\n",
       "      <td>3.7</td>\n",
       "      <td>88.0</td>\n",
       "      <td>+91 9620009302</td>\n",
       "      <td>Banashankari</td>\n",
       "      <td>Quick Bites</td>\n",
       "      <td>South Indian, North Indian</td>\n",
       "      <td>300.0</td>\n",
       "      <td>Buffet</td>\n",
       "    </tr>\n",
       "    <tr>\n",
       "      <th>4</th>\n",
       "      <td>10, 3rd Floor, Lakshmi Associates, Gandhi Baza...</td>\n",
       "      <td>Grand Village</td>\n",
       "      <td>No</td>\n",
       "      <td>No</td>\n",
       "      <td>3.8</td>\n",
       "      <td>166.0</td>\n",
       "      <td>+91 8026612447\\r\\n+91 9901210005</td>\n",
       "      <td>Basavanagudi</td>\n",
       "      <td>Casual Dining</td>\n",
       "      <td>North Indian, Rajasthani</td>\n",
       "      <td>600.0</td>\n",
       "      <td>Buffet</td>\n",
       "    </tr>\n",
       "  </tbody>\n",
       "</table>\n",
       "</div>"
      ],
      "text/plain": [
       "                                             address                   name  \\\n",
       "0  942, 21st Main Road, 2nd Stage, Banashankari, ...                  Jalsa   \n",
       "1  2nd Floor, 80 Feet Road, Near Big Bazaar, 6th ...         Spice Elephant   \n",
       "2  1112, Next to KIMS Medical College, 17th Cross...        San Churro Cafe   \n",
       "3  1st Floor, Annakuteera, 3rd Stage, Banashankar...  Addhuri Udupi Bhojana   \n",
       "4  10, 3rd Floor, Lakshmi Associates, Gandhi Baza...          Grand Village   \n",
       "\n",
       "  online_order book_table  rate  votes                             phone  \\\n",
       "0          Yes        Yes   4.1  775.0    080 42297555\\r\\n+91 9743772233   \n",
       "1          Yes         No   4.1  787.0                      080 41714161   \n",
       "2          Yes         No   3.8  918.0                    +91 9663487993   \n",
       "3           No         No   3.7   88.0                    +91 9620009302   \n",
       "4           No         No   3.8  166.0  +91 8026612447\\r\\n+91 9901210005   \n",
       "\n",
       "       location            rest_type                        cuisines  \\\n",
       "0  Banashankari        Casual Dining  North Indian, Mughlai, Chinese   \n",
       "1  Banashankari        Casual Dining     Chinese, North Indian, Thai   \n",
       "2  Banashankari  Cafe, Casual Dining          Cafe, Mexican, Italian   \n",
       "3  Banashankari          Quick Bites      South Indian, North Indian   \n",
       "4  Basavanagudi        Casual Dining        North Indian, Rajasthani   \n",
       "\n",
       "   Cost2plates    Type  \n",
       "0        800.0  Buffet  \n",
       "1        800.0  Buffet  \n",
       "2        800.0  Buffet  \n",
       "3        300.0  Buffet  \n",
       "4        600.0  Buffet  "
      ]
     },
     "execution_count": 22,
     "metadata": {},
     "output_type": "execute_result"
    }
   ],
   "source": [
    "df.rename(columns = {'approx_cost(for two people)':'Cost2plates', 'listed_in(type)':'Type'}, inplace = True)\n",
    "df.head()"
   ]
  },
  {
   "cell_type": "code",
   "execution_count": 23,
   "id": "0d810446",
   "metadata": {},
   "outputs": [
    {
     "data": {
      "text/plain": [
       "array(['Banashankari', 'Basavanagudi', 'Mysore Road', ...,\n",
       "       ' which were good', ' LIIT original had very less liquor',\n",
       "       \" no complaints there\\\\nZomato gold on food makes it pocket friendly .')\"],\n",
       "      shape=(2920,), dtype=object)"
      ]
     },
     "execution_count": 23,
     "metadata": {},
     "output_type": "execute_result"
    }
   ],
   "source": [
    "df['location'].unique()\n"
   ]
  },
  {
   "cell_type": "code",
   "execution_count": 31,
   "id": "2f06e8cd",
   "metadata": {},
   "outputs": [],
   "source": [
    "df['Cost2plates'].unique()\n",
    "def handlecost(value):\n",
    "    value = str(value).replace(',','')\n",
    "    if(value=='NEW' or value=='-'):\n",
    "        return np.nan\n",
    "    else:\n",
    "        return float(value)\n"
   ]
  },
  {
   "cell_type": "code",
   "execution_count": 9,
   "id": "b99f2e36",
   "metadata": {},
   "outputs": [],
   "source": [
    "# dropping the 'dish_liked' column as it contains more than 50% missing values\n",
    "df = df.drop('dish_liked', axis=1)\n"
   ]
  },
  {
   "cell_type": "code",
   "execution_count": 10,
   "id": "10461c20",
   "metadata": {},
   "outputs": [],
   "source": [
    "# --- Convert numeric columns from string to int/float safely ---\n",
    "\n",
    "# Remove commas and convert 'votes' to numeric\n",
    "df['votes'] = df['votes'].astype(str).str.replace(',', '', regex=True)\n",
    "df['votes'] = pd.to_numeric(df['votes'], errors='coerce')\n",
    "\n",
    "# Remove commas and convert 'approx_cost(for two people)' to numeric\n",
    "df['approx_cost(for two people)'] = df['approx_cost(for two people)'].astype(str).str.replace(',', '', regex=True)\n",
    "df['approx_cost(for two people)'] = pd.to_numeric(df['approx_cost(for two people)'], errors='coerce')\n",
    "\n",
    "\n"
   ]
  },
  {
   "cell_type": "code",
   "execution_count": 11,
   "id": "f8faa278",
   "metadata": {},
   "outputs": [],
   "source": [
    "# --- Fill missing values ---\n",
    "\n",
    "df['votes'] = df['votes'].fillna(df['votes'].mean())\n",
    "df['approx_cost(for two people)'] = df['approx_cost(for two people)'].fillna(df['approx_cost(for two people)'].median())\n",
    "df['rest_type'] = df['rest_type'].fillna(df['rest_type'].mode()[0])\n",
    "df['location'] = df['location'].fillna(df['location'].mode()[0])\n"
   ]
  },
  {
   "cell_type": "code",
   "execution_count": 12,
   "id": "d67d7eed",
   "metadata": {},
   "outputs": [
    {
     "data": {
      "text/plain": [
       "np.int64(15797)"
      ]
     },
     "execution_count": 12,
     "metadata": {},
     "output_type": "execute_result"
    }
   ],
   "source": [
    "# checking for duplicate values\n",
    "df.duplicated().sum()"
   ]
  },
  {
   "cell_type": "code",
   "execution_count": 13,
   "id": "05619ed4",
   "metadata": {},
   "outputs": [
    {
     "name": "stdout",
     "output_type": "stream",
     "text": [
      "After removing duplicates, the new shape is: (40455, 12)\n"
     ]
    }
   ],
   "source": [
    "# dropping duplicate values\n",
    "df.drop_duplicates(inplace=True)\n",
    "print(\"After removing duplicates, the new shape is:\", df.shape)\n",
    "\n"
   ]
  },
  {
   "cell_type": "code",
   "execution_count": 15,
   "id": "26507528",
   "metadata": {},
   "outputs": [],
   "source": [
    "\n",
    "\n",
    "# Clean the 'rate' column safely\n",
    "\n",
    "# 1️⃣ Convert everything to string and strip extra spaces\n",
    "df['rate'] = df['rate'].astype(str).str.strip()\n",
    "\n",
    "# 2️⃣ Remove '/5' part if present\n",
    "df['rate'] = df['rate'].str.replace('/5', '', regex=False)\n",
    "\n",
    "# 3️⃣ Replace unwanted text values (like 'NEW', '-', 'nan', 'Top floor', etc.) with NaN\n",
    "df['rate'] = df['rate'].replace(\n",
    "    ['NEW', '-', 'nan', 'Top floor', 'Excellent', 'High Floor', 'Ground Floor', 'None', ''],\n",
    "    np.nan\n",
    ")\n",
    "\n",
    "# 4️⃣ Remove any non-numeric values using regex\n",
    "df['rate'] = df['rate'].str.extract('(\\d+\\.\\d+|\\d+)')  # extract only numbers like 4.1 or 4\n",
    "\n",
    "# 5️⃣ Convert to float\n",
    "df['rate'] = df['rate'].astype(float)\n",
    "\n",
    "# 6️⃣ Fill missing values with mean or median\n",
    "df['rate'] = df['rate'].fillna(df['rate'].mean())\n",
    "\n",
    "# 7️⃣ (Optional) Round to 1 decimal place\n",
    "df['rate'] = df['rate'].round(1)\n"
   ]
  },
  {
   "cell_type": "code",
   "execution_count": 34,
   "id": "6944b4ab",
   "metadata": {},
   "outputs": [
    {
     "data": {
      "text/plain": [
       "0    4.1\n",
       "1    4.1\n",
       "2    3.8\n",
       "3    3.7\n",
       "4    3.8\n",
       "Name: rate, dtype: float64"
      ]
     },
     "execution_count": 34,
     "metadata": {},
     "output_type": "execute_result"
    }
   ],
   "source": [
    "#checking the 'rate' column after cleaning\n",
    "df['rate'].isnull().sum()  \n",
    "df['rate'].head()           \n",
    "           "
   ]
  },
  {
   "cell_type": "code",
   "execution_count": 17,
   "id": "3b5ca2fb",
   "metadata": {},
   "outputs": [
    {
     "data": {
      "text/plain": [
       "0    4.1\n",
       "1    4.1\n",
       "2    3.8\n",
       "3    3.7\n",
       "4    3.8\n",
       "Name: rate, dtype: float64"
      ]
     },
     "execution_count": 17,
     "metadata": {},
     "output_type": "execute_result"
    }
   ],
   "source": [
    "df['rate'].head()           "
   ]
  },
  {
   "cell_type": "code",
   "execution_count": 32,
   "id": "db1fc5c8",
   "metadata": {},
   "outputs": [
    {
     "name": "stdout",
     "output_type": "stream",
     "text": [
      "<class 'pandas.core.frame.DataFrame'>\n",
      "Index: 40455 entries, 0 to 56251\n",
      "Data columns (total 12 columns):\n",
      " #   Column        Non-Null Count  Dtype  \n",
      "---  ------        --------------  -----  \n",
      " 0   address       40453 non-null  object \n",
      " 1   name          40454 non-null  object \n",
      " 2   online_order  40451 non-null  object \n",
      " 3   book_table    40417 non-null  object \n",
      " 4   rate          40455 non-null  float64\n",
      " 5   votes         40455 non-null  float64\n",
      " 6   phone         39647 non-null  object \n",
      " 7   location      40455 non-null  object \n",
      " 8   rest_type     40455 non-null  object \n",
      " 9   cuisines      40305 non-null  object \n",
      " 10  Cost2plates   40455 non-null  float64\n",
      " 11  Type          37567 non-null  object \n",
      "dtypes: float64(3), object(9)\n",
      "memory usage: 4.0+ MB\n"
     ]
    }
   ],
   "source": [
    "df.info()"
   ]
  },
  {
   "cell_type": "code",
   "execution_count": 33,
   "id": "5784d79a",
   "metadata": {},
   "outputs": [
    {
     "data": {
      "text/plain": [
       "address            2\n",
       "name               1\n",
       "online_order       4\n",
       "book_table        38\n",
       "rate               0\n",
       "votes              0\n",
       "phone            808\n",
       "location           0\n",
       "rest_type          0\n",
       "cuisines         150\n",
       "Cost2plates        0\n",
       "Type            2888\n",
       "dtype: int64"
      ]
     },
     "execution_count": 33,
     "metadata": {},
     "output_type": "execute_result"
    }
   ],
   "source": [
    "#cheking the final missing values\n",
    "df.isnull().sum()"
   ]
  },
  {
   "cell_type": "code",
   "execution_count": 35,
   "id": "9be2cebe",
   "metadata": {},
   "outputs": [
    {
     "data": {
      "text/plain": [
       "cuisines\n",
       "others                                              23224\n",
       "North Indian                                         2021\n",
       "North Indian, Chinese                                1692\n",
       "South Indian                                         1216\n",
       "Bakery, Desserts                                      634\n",
       "Biryani                                               602\n",
       "Fast Food                                             528\n",
       "South Indian, North Indian, Chinese                   507\n",
       "Desserts                                              481\n",
       "Cafe                                                  480\n",
       "Bakery                                                413\n",
       " ('Rated 4.0'                                         363\n",
       "Chinese                                               358\n",
       " ('Rated 5.0'                                         317\n",
       "Ice Cream, Desserts                                   311\n",
       "Chinese, North Indian                                 278\n",
       "Mithai, Street Food                                   275\n",
       "North Indian, Chinese, Biryani                        248\n",
       "Desserts, Ice Cream                                   241\n",
       "North Indian, South Indian                            238\n",
       "North Indian, South Indian, Chinese                   228\n",
       "South Indian, North Indian                            224\n",
       "Finger Food                                           211\n",
       "North Indian, Biryani                                 200\n",
       "Desserts, Beverages                                   196\n",
       "Street Food                                           189\n",
       "Biryani, Kebab                                        189\n",
       "Biryani, North Indian                                 187\n",
       "Chinese, Momos                                        178\n",
       "Beverages, Fast Food                                  177\n",
       "Beverages                                             168\n",
       "Cafe, Fast Food                                       163\n",
       "South Indian, Biryani                                 161\n",
       "South Indian, North Indian, Chinese, Street Food      152\n",
       "South Indian, Chinese                                 152\n",
       "North Indian, Mughlai                                 151\n",
       "Desserts, Bakery                                      150\n",
       " ('Rated 3.0'                                         149\n",
       "Burger, Fast Food                                     148\n",
       "Kerala                                                147\n",
       "Continental                                           145\n",
       "North Indian, Fast Food                               141\n",
       "Fast Food, Beverages                                  139\n",
       "Ice Cream                                             136\n",
       "Bakery, Fast Food                                     134\n",
       "Chinese, Thai                                         131\n",
       "Pizza, Fast Food                                      130\n",
       "North Indian, Chinese, South Indian                   129\n",
       "Biryani, North Indian, Chinese                        128\n",
       "North Indian, Chinese, Fast Food                      124\n",
       "Cafe, Continental                                     124\n",
       "Fast Food, Rolls                                      123\n",
       "Pizza                                                 119\n",
       "Andhra                                                119\n",
       "Biryani, Fast Food                                    117\n",
       "Andhra, Biryani                                       110\n",
       "North Indian, Street Food                             105\n",
       "Arabian                                               104\n",
       "Cafe, Desserts                                        100\n",
       "Name: count, dtype: int64"
      ]
     },
     "execution_count": 35,
     "metadata": {},
     "output_type": "execute_result"
    }
   ],
   "source": [
    "cuisines = df['cuisines'].value_counts(ascending  = False)\n",
    "\n",
    "\n",
    "cuisines_lessthan100 = cuisines[cuisines<100]\n",
    "\n",
    "\n",
    "\n",
    "def handle_cuisines(value):\n",
    "    if(value in cuisines_lessthan100):\n",
    "        return 'others'\n",
    "    else:\n",
    "        return value\n",
    "        \n",
    "df['cuisines'] = df['cuisines'].apply(handle_cuisines)\n",
    "df['cuisines'].value_counts()\n"
   ]
  },
  {
   "cell_type": "code",
   "execution_count": 36,
   "id": "8f41e01b",
   "metadata": {},
   "outputs": [
    {
     "data": {
      "text/html": [
       "<div>\n",
       "<style scoped>\n",
       "    .dataframe tbody tr th:only-of-type {\n",
       "        vertical-align: middle;\n",
       "    }\n",
       "\n",
       "    .dataframe tbody tr th {\n",
       "        vertical-align: top;\n",
       "    }\n",
       "\n",
       "    .dataframe thead th {\n",
       "        text-align: right;\n",
       "    }\n",
       "</style>\n",
       "<table border=\"1\" class=\"dataframe\">\n",
       "  <thead>\n",
       "    <tr style=\"text-align: right;\">\n",
       "      <th></th>\n",
       "      <th>address</th>\n",
       "      <th>name</th>\n",
       "      <th>online_order</th>\n",
       "      <th>book_table</th>\n",
       "      <th>rate</th>\n",
       "      <th>votes</th>\n",
       "      <th>phone</th>\n",
       "      <th>location</th>\n",
       "      <th>rest_type</th>\n",
       "      <th>cuisines</th>\n",
       "      <th>Cost2plates</th>\n",
       "      <th>Type</th>\n",
       "    </tr>\n",
       "  </thead>\n",
       "  <tbody>\n",
       "    <tr>\n",
       "      <th>0</th>\n",
       "      <td>942, 21st Main Road, 2nd Stage, Banashankari, ...</td>\n",
       "      <td>Jalsa</td>\n",
       "      <td>Yes</td>\n",
       "      <td>Yes</td>\n",
       "      <td>4.1</td>\n",
       "      <td>775.0</td>\n",
       "      <td>080 42297555\\r\\n+91 9743772233</td>\n",
       "      <td>Banashankari</td>\n",
       "      <td>Casual Dining</td>\n",
       "      <td>others</td>\n",
       "      <td>800.0</td>\n",
       "      <td>Buffet</td>\n",
       "    </tr>\n",
       "    <tr>\n",
       "      <th>1</th>\n",
       "      <td>2nd Floor, 80 Feet Road, Near Big Bazaar, 6th ...</td>\n",
       "      <td>Spice Elephant</td>\n",
       "      <td>Yes</td>\n",
       "      <td>No</td>\n",
       "      <td>4.1</td>\n",
       "      <td>787.0</td>\n",
       "      <td>080 41714161</td>\n",
       "      <td>Banashankari</td>\n",
       "      <td>Casual Dining</td>\n",
       "      <td>others</td>\n",
       "      <td>800.0</td>\n",
       "      <td>Buffet</td>\n",
       "    </tr>\n",
       "    <tr>\n",
       "      <th>2</th>\n",
       "      <td>1112, Next to KIMS Medical College, 17th Cross...</td>\n",
       "      <td>San Churro Cafe</td>\n",
       "      <td>Yes</td>\n",
       "      <td>No</td>\n",
       "      <td>3.8</td>\n",
       "      <td>918.0</td>\n",
       "      <td>+91 9663487993</td>\n",
       "      <td>Banashankari</td>\n",
       "      <td>Cafe, Casual Dining</td>\n",
       "      <td>others</td>\n",
       "      <td>800.0</td>\n",
       "      <td>Buffet</td>\n",
       "    </tr>\n",
       "    <tr>\n",
       "      <th>3</th>\n",
       "      <td>1st Floor, Annakuteera, 3rd Stage, Banashankar...</td>\n",
       "      <td>Addhuri Udupi Bhojana</td>\n",
       "      <td>No</td>\n",
       "      <td>No</td>\n",
       "      <td>3.7</td>\n",
       "      <td>88.0</td>\n",
       "      <td>+91 9620009302</td>\n",
       "      <td>Banashankari</td>\n",
       "      <td>Quick Bites</td>\n",
       "      <td>South Indian, North Indian</td>\n",
       "      <td>300.0</td>\n",
       "      <td>Buffet</td>\n",
       "    </tr>\n",
       "    <tr>\n",
       "      <th>4</th>\n",
       "      <td>10, 3rd Floor, Lakshmi Associates, Gandhi Baza...</td>\n",
       "      <td>Grand Village</td>\n",
       "      <td>No</td>\n",
       "      <td>No</td>\n",
       "      <td>3.8</td>\n",
       "      <td>166.0</td>\n",
       "      <td>+91 8026612447\\r\\n+91 9901210005</td>\n",
       "      <td>Basavanagudi</td>\n",
       "      <td>Casual Dining</td>\n",
       "      <td>others</td>\n",
       "      <td>600.0</td>\n",
       "      <td>Buffet</td>\n",
       "    </tr>\n",
       "  </tbody>\n",
       "</table>\n",
       "</div>"
      ],
      "text/plain": [
       "                                             address                   name  \\\n",
       "0  942, 21st Main Road, 2nd Stage, Banashankari, ...                  Jalsa   \n",
       "1  2nd Floor, 80 Feet Road, Near Big Bazaar, 6th ...         Spice Elephant   \n",
       "2  1112, Next to KIMS Medical College, 17th Cross...        San Churro Cafe   \n",
       "3  1st Floor, Annakuteera, 3rd Stage, Banashankar...  Addhuri Udupi Bhojana   \n",
       "4  10, 3rd Floor, Lakshmi Associates, Gandhi Baza...          Grand Village   \n",
       "\n",
       "  online_order book_table  rate  votes                             phone  \\\n",
       "0          Yes        Yes   4.1  775.0    080 42297555\\r\\n+91 9743772233   \n",
       "1          Yes         No   4.1  787.0                      080 41714161   \n",
       "2          Yes         No   3.8  918.0                    +91 9663487993   \n",
       "3           No         No   3.7   88.0                    +91 9620009302   \n",
       "4           No         No   3.8  166.0  +91 8026612447\\r\\n+91 9901210005   \n",
       "\n",
       "       location            rest_type                    cuisines  Cost2plates  \\\n",
       "0  Banashankari        Casual Dining                      others        800.0   \n",
       "1  Banashankari        Casual Dining                      others        800.0   \n",
       "2  Banashankari  Cafe, Casual Dining                      others        800.0   \n",
       "3  Banashankari          Quick Bites  South Indian, North Indian        300.0   \n",
       "4  Basavanagudi        Casual Dining                      others        600.0   \n",
       "\n",
       "     Type  \n",
       "0  Buffet  \n",
       "1  Buffet  \n",
       "2  Buffet  \n",
       "3  Buffet  \n",
       "4  Buffet  "
      ]
     },
     "execution_count": 36,
     "metadata": {},
     "output_type": "execute_result"
    }
   ],
   "source": [
    "df.head()"
   ]
  }
 ],
 "metadata": {
  "kernelspec": {
   "display_name": "Python 3",
   "language": "python",
   "name": "python3"
  },
  "language_info": {
   "codemirror_mode": {
    "name": "ipython",
    "version": 3
   },
   "file_extension": ".py",
   "mimetype": "text/x-python",
   "name": "python",
   "nbconvert_exporter": "python",
   "pygments_lexer": "ipython3",
   "version": "3.11.9"
  }
 },
 "nbformat": 4,
 "nbformat_minor": 5
}
